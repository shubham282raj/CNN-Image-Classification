{
 "cells": [
  {
   "cell_type": "code",
   "execution_count": 90,
   "metadata": {},
   "outputs": [],
   "source": [
    "import numpy as np"
   ]
  },
  {
   "cell_type": "code",
   "execution_count": 91,
   "metadata": {},
   "outputs": [],
   "source": [
    "images_url = \"./CUB_200_2011/images.txt\"\n",
    "train_test_split_url = \"./CUB_200_2011/train_test_split.txt\"\n",
    "classes_url = \"./CUB_200_2011/classes.txt\"\n",
    "image_class_labels_url = \"./CUB_200_2011/image_class_labels.txt\""
   ]
  },
  {
   "cell_type": "markdown",
   "metadata": {},
   "source": [
    "Loading .txt file"
   ]
  },
  {
   "cell_type": "code",
   "execution_count": 92,
   "metadata": {},
   "outputs": [],
   "source": [
    "image = np.genfromtxt(images_url , delimiter=' ', dtype=str) #<image_id> <image_name>\n",
    "train_test_split = np.genfromtxt(train_test_split_url, delimiter=\" \", dtype=str) #<image_id> <is_training_image>\n",
    "classes = np.genfromtxt(classes_url, delimiter=\" \", dtype=str) #<class_id> <class_name>\n",
    "image_class_labels = np.genfromtxt(image_class_labels_url, delimiter=\" \", dtype=str) #<image_id> <class_id>"
   ]
  },
  {
   "cell_type": "markdown",
   "metadata": {},
   "source": [
    "<table>\n",
    "    <tr>\n",
    "        <td>image</td>\n",
    "        <td>&lt;image_id&gt; &lt;image_name&gt;</td>\n",
    "    </tr>\n",
    "    <tr>\n",
    "        <td>train_test_split</td>\n",
    "        <td>&lt;image_id&gt; &lt;is_training_image&gt;</td>\n",
    "    </tr>\n",
    "    <tr>\n",
    "        <td>classes</td>\n",
    "        <td>&lt;class_id&gt; &lt;class_name&gt;</td>\n",
    "    </tr>\n",
    "    <tr>\n",
    "        <td>image_class_labels</td>\n",
    "        <td>&lt;image_id&gt; &lt;class_id&gt;</td>\n",
    "    </tr>\n",
    "</table>"
   ]
  },
  {
   "cell_type": "code",
   "execution_count": 93,
   "metadata": {},
   "outputs": [
    {
     "name": "stdout",
     "output_type": "stream",
     "text": [
      "['1' '001.Black_footed_Albatross/Black_Footed_Albatross_0046_18.jpg']\n",
      "['1' '0']\n",
      "['1' '001.Black_footed_Albatross']\n",
      "['1' '1']\n"
     ]
    }
   ],
   "source": [
    "print(image[0])\n",
    "print(train_test_split[0])\n",
    "print(classes[0])\n",
    "print(image_class_labels[0])"
   ]
  },
  {
   "cell_type": "code",
   "execution_count": 109,
   "metadata": {},
   "outputs": [
    {
     "name": "stdout",
     "output_type": "stream",
     "text": [
      "Number of Images: 11788\n",
      "n_train: 5994\n",
      "n_test: 5794\n",
      "n_classes: 200\n"
     ]
    }
   ],
   "source": [
    "image_train = train_test_split[train_test_split[:,1]==\"1\"]\n",
    "image_test = train_test_split[train_test_split[:,1]==\"0\"]\n",
    "n_train = image_train.shape[0]\n",
    "n_test = image_test.shape[0]\n",
    "n_classes = classes.shape[0]\n",
    "\n",
    "print(\"Number of Images:\", image.shape[0])\n",
    "print(f\"n_train: {n_train}\")\n",
    "print(f\"n_test: {n_test}\")\n",
    "print(f\"n_classes: {n_classes}\")"
   ]
  }
 ],
 "metadata": {
  "kernelspec": {
   "display_name": "Python 3",
   "language": "python",
   "name": "python3"
  },
  "language_info": {
   "codemirror_mode": {
    "name": "ipython",
    "version": 3
   },
   "file_extension": ".py",
   "mimetype": "text/x-python",
   "name": "python",
   "nbconvert_exporter": "python",
   "pygments_lexer": "ipython3",
   "version": "3.12.0"
  }
 },
 "nbformat": 4,
 "nbformat_minor": 2
}
